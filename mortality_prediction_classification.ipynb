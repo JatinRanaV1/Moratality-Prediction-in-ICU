{
 "cells": [
  {
   "cell_type": "code",
   "execution_count": 2,
   "metadata": {},
   "outputs": [],
   "source": [
    "import numpy as np\n",
    "import pandas as pd\n",
    "import matplotlib.pyplot as plt"
   ]
  },
  {
   "cell_type": "code",
   "execution_count": 3,
   "metadata": {},
   "outputs": [
    {
     "data": {
      "text/plain": [
       "(1023, 11)"
      ]
     },
     "execution_count": 3,
     "metadata": {},
     "output_type": "execute_result"
    }
   ],
   "source": [
    "df = pd.read_csv('icu.csv')\n",
    "df.shape"
   ]
  },
  {
   "cell_type": "code",
   "execution_count": 4,
   "metadata": {},
   "outputs": [
    {
     "data": {
      "text/html": [
       "<div>\n",
       "<style scoped>\n",
       "    .dataframe tbody tr th:only-of-type {\n",
       "        vertical-align: middle;\n",
       "    }\n",
       "\n",
       "    .dataframe tbody tr th {\n",
       "        vertical-align: top;\n",
       "    }\n",
       "\n",
       "    .dataframe thead th {\n",
       "        text-align: right;\n",
       "    }\n",
       "</style>\n",
       "<table border=\"1\" class=\"dataframe\">\n",
       "  <thead>\n",
       "    <tr style=\"text-align: right;\">\n",
       "      <th></th>\n",
       "      <th>patient_id</th>\n",
       "      <th>disease</th>\n",
       "      <th>age</th>\n",
       "      <th>gender</th>\n",
       "      <th>adm_type</th>\n",
       "      <th>bpm</th>\n",
       "      <th>body_temp(°F)</th>\n",
       "      <th>resp_rate</th>\n",
       "      <th>oxy_sat</th>\n",
       "      <th>days_in_icu</th>\n",
       "      <th>death</th>\n",
       "    </tr>\n",
       "  </thead>\n",
       "  <tbody>\n",
       "    <tr>\n",
       "      <th>0</th>\n",
       "      <td>1000</td>\n",
       "      <td>Traumatic Brain Injury</td>\n",
       "      <td>58</td>\n",
       "      <td>1</td>\n",
       "      <td>urgent</td>\n",
       "      <td>120</td>\n",
       "      <td>98.2</td>\n",
       "      <td>7</td>\n",
       "      <td>88</td>\n",
       "      <td>8</td>\n",
       "      <td>1</td>\n",
       "    </tr>\n",
       "    <tr>\n",
       "      <th>1</th>\n",
       "      <td>1001</td>\n",
       "      <td>Stroke</td>\n",
       "      <td>40</td>\n",
       "      <td>1</td>\n",
       "      <td>urgent</td>\n",
       "      <td>45</td>\n",
       "      <td>98.0</td>\n",
       "      <td>14</td>\n",
       "      <td>88</td>\n",
       "      <td>1</td>\n",
       "      <td>1</td>\n",
       "    </tr>\n",
       "    <tr>\n",
       "      <th>2</th>\n",
       "      <td>1002</td>\n",
       "      <td>Ruptured Brain Aneurysm</td>\n",
       "      <td>69</td>\n",
       "      <td>0</td>\n",
       "      <td>elective</td>\n",
       "      <td>123</td>\n",
       "      <td>98.6</td>\n",
       "      <td>11</td>\n",
       "      <td>95</td>\n",
       "      <td>9</td>\n",
       "      <td>1</td>\n",
       "    </tr>\n",
       "    <tr>\n",
       "      <th>3</th>\n",
       "      <td>1003</td>\n",
       "      <td>Ruptured Brain Aneurysm</td>\n",
       "      <td>22</td>\n",
       "      <td>0</td>\n",
       "      <td>emergency</td>\n",
       "      <td>60</td>\n",
       "      <td>97.8</td>\n",
       "      <td>7</td>\n",
       "      <td>89</td>\n",
       "      <td>7</td>\n",
       "      <td>1</td>\n",
       "    </tr>\n",
       "    <tr>\n",
       "      <th>4</th>\n",
       "      <td>1004</td>\n",
       "      <td>Sepsis</td>\n",
       "      <td>56</td>\n",
       "      <td>1</td>\n",
       "      <td>emergency</td>\n",
       "      <td>116</td>\n",
       "      <td>100.5</td>\n",
       "      <td>13</td>\n",
       "      <td>93</td>\n",
       "      <td>4</td>\n",
       "      <td>1</td>\n",
       "    </tr>\n",
       "    <tr>\n",
       "      <th>...</th>\n",
       "      <td>...</td>\n",
       "      <td>...</td>\n",
       "      <td>...</td>\n",
       "      <td>...</td>\n",
       "      <td>...</td>\n",
       "      <td>...</td>\n",
       "      <td>...</td>\n",
       "      <td>...</td>\n",
       "      <td>...</td>\n",
       "      <td>...</td>\n",
       "      <td>...</td>\n",
       "    </tr>\n",
       "    <tr>\n",
       "      <th>1018</th>\n",
       "      <td>2096</td>\n",
       "      <td>Stroke</td>\n",
       "      <td>78</td>\n",
       "      <td>1</td>\n",
       "      <td>emergency</td>\n",
       "      <td>113</td>\n",
       "      <td>100.6</td>\n",
       "      <td>11</td>\n",
       "      <td>100</td>\n",
       "      <td>2</td>\n",
       "      <td>1</td>\n",
       "    </tr>\n",
       "    <tr>\n",
       "      <th>1019</th>\n",
       "      <td>2097</td>\n",
       "      <td>Shock</td>\n",
       "      <td>57</td>\n",
       "      <td>0</td>\n",
       "      <td>urgent</td>\n",
       "      <td>44</td>\n",
       "      <td>100.7</td>\n",
       "      <td>15</td>\n",
       "      <td>98</td>\n",
       "      <td>14</td>\n",
       "      <td>0</td>\n",
       "    </tr>\n",
       "    <tr>\n",
       "      <th>1020</th>\n",
       "      <td>2098</td>\n",
       "      <td>Traumatic Brain Injury</td>\n",
       "      <td>39</td>\n",
       "      <td>1</td>\n",
       "      <td>emergency</td>\n",
       "      <td>115</td>\n",
       "      <td>100.2</td>\n",
       "      <td>13</td>\n",
       "      <td>85</td>\n",
       "      <td>12</td>\n",
       "      <td>1</td>\n",
       "    </tr>\n",
       "    <tr>\n",
       "      <th>1021</th>\n",
       "      <td>2099</td>\n",
       "      <td>Traumatic Brain Injury</td>\n",
       "      <td>72</td>\n",
       "      <td>1</td>\n",
       "      <td>urgent</td>\n",
       "      <td>128</td>\n",
       "      <td>100.4</td>\n",
       "      <td>9</td>\n",
       "      <td>97</td>\n",
       "      <td>6</td>\n",
       "      <td>0</td>\n",
       "    </tr>\n",
       "    <tr>\n",
       "      <th>1022</th>\n",
       "      <td>2100</td>\n",
       "      <td>Traumatic Brain Injury</td>\n",
       "      <td>33</td>\n",
       "      <td>1</td>\n",
       "      <td>urgent</td>\n",
       "      <td>125</td>\n",
       "      <td>99.3</td>\n",
       "      <td>7</td>\n",
       "      <td>87</td>\n",
       "      <td>10</td>\n",
       "      <td>0</td>\n",
       "    </tr>\n",
       "  </tbody>\n",
       "</table>\n",
       "<p>1023 rows × 11 columns</p>\n",
       "</div>"
      ],
      "text/plain": [
       "      patient_id                  disease  age  gender   adm_type  bpm  \\\n",
       "0           1000   Traumatic Brain Injury   58       1     urgent  120   \n",
       "1           1001                   Stroke   40       1     urgent   45   \n",
       "2           1002  Ruptured Brain Aneurysm   69       0   elective  123   \n",
       "3           1003  Ruptured Brain Aneurysm   22       0  emergency   60   \n",
       "4           1004                   Sepsis   56       1  emergency  116   \n",
       "...          ...                      ...  ...     ...        ...  ...   \n",
       "1018        2096                   Stroke   78       1  emergency  113   \n",
       "1019        2097                    Shock   57       0     urgent   44   \n",
       "1020        2098   Traumatic Brain Injury   39       1  emergency  115   \n",
       "1021        2099   Traumatic Brain Injury   72       1     urgent  128   \n",
       "1022        2100   Traumatic Brain Injury   33       1     urgent  125   \n",
       "\n",
       "      body_temp(°F)  resp_rate  oxy_sat  days_in_icu  death  \n",
       "0              98.2          7       88            8      1  \n",
       "1              98.0         14       88            1      1  \n",
       "2              98.6         11       95            9      1  \n",
       "3              97.8          7       89            7      1  \n",
       "4             100.5         13       93            4      1  \n",
       "...             ...        ...      ...          ...    ...  \n",
       "1018          100.6         11      100            2      1  \n",
       "1019          100.7         15       98           14      0  \n",
       "1020          100.2         13       85           12      1  \n",
       "1021          100.4          9       97            6      0  \n",
       "1022           99.3          7       87           10      0  \n",
       "\n",
       "[1023 rows x 11 columns]"
      ]
     },
     "execution_count": 4,
     "metadata": {},
     "output_type": "execute_result"
    }
   ],
   "source": [
    "df"
   ]
  },
  {
   "cell_type": "code",
   "execution_count": 11,
   "metadata": {},
   "outputs": [],
   "source": [
    "x = df.iloc[:,1:-1].values\n",
    "y = df.iloc[:,-1].values"
   ]
  },
  {
   "cell_type": "code",
   "execution_count": 12,
   "metadata": {},
   "outputs": [],
   "source": [
    "from sklearn.preprocessing import OneHotEncoder\n",
    "from sklearn.compose import ColumnTransformer\n",
    "columnTransformer = ColumnTransformer([('encoder', OneHotEncoder(), [0])],remainder='passthrough')\n",
    "x=np.array(columnTransformer.fit_transform(x))\n",
    "\n",
    "columnTransformer = ColumnTransformer([('encoder', OneHotEncoder(), [7])],remainder='passthrough')\n",
    "x=np.array(columnTransformer.fit_transform(x))"
   ]
  },
  {
   "cell_type": "code",
   "execution_count": 13,
   "metadata": {},
   "outputs": [],
   "source": [
    "from sklearn.model_selection import train_test_split\n",
    "x_train,x_test,y_train,y_test = train_test_split(x,y,test_size = .25,random_state = 0)"
   ]
  },
  {
   "cell_type": "code",
   "execution_count": 14,
   "metadata": {},
   "outputs": [],
   "source": [
    "from sklearn.preprocessing import StandardScaler\n",
    "\n",
    "sc = StandardScaler()\n",
    "x_train = sc.fit_transform(x_train)\n",
    "x_test = sc.fit_transform(x_test)"
   ]
  },
  {
   "cell_type": "markdown",
   "metadata": {},
   "source": [
    "# DT"
   ]
  },
  {
   "cell_type": "code",
   "execution_count": 163,
   "metadata": {},
   "outputs": [],
   "source": [
    "from sklearn.tree import DecisionTreeClassifier\n",
    "\n",
    "classifier1 = DecisionTreeClassifier(random_state = 0, criterion='gini')\n",
    "classifier1.fit(x_train, y_train)\n",
    "\n",
    "y_pred_1 = classifier1.predict(x_test)"
   ]
  },
  {
   "cell_type": "code",
   "execution_count": 164,
   "metadata": {},
   "outputs": [
    {
     "name": "stdout",
     "output_type": "stream",
     "text": [
      "[[60 78]\n",
      " [55 63]]\n",
      "0.48046875\n"
     ]
    }
   ],
   "source": [
    "from sklearn.metrics import confusion_matrix, accuracy_score\n",
    "cm = confusion_matrix(y_test, y_pred_1)\n",
    "print(cm)\n",
    "print(accuracy_score(y_test, y_pred_1))"
   ]
  },
  {
   "cell_type": "code",
   "execution_count": 165,
   "metadata": {},
   "outputs": [],
   "source": [
    "classifier1 = DecisionTreeClassifier(random_state = 0, criterion='entropy')\n",
    "classifier1.fit(x_train, y_train)\n",
    "\n",
    "y_pred_1 = classifier1.predict(x_test)"
   ]
  },
  {
   "cell_type": "code",
   "execution_count": 166,
   "metadata": {},
   "outputs": [
    {
     "name": "stdout",
     "output_type": "stream",
     "text": [
      "[[45 93]\n",
      " [51 67]]\n",
      "0.4375\n"
     ]
    }
   ],
   "source": [
    "from sklearn.metrics import confusion_matrix, accuracy_score\n",
    "cm = confusion_matrix(y_test, y_pred_1)\n",
    "print(cm)\n",
    "print(accuracy_score(y_test, y_pred_1))"
   ]
  },
  {
   "cell_type": "markdown",
   "metadata": {},
   "source": [
    "# LR"
   ]
  },
  {
   "cell_type": "code",
   "execution_count": 167,
   "metadata": {},
   "outputs": [],
   "source": [
    "from sklearn.linear_model import LogisticRegression\n",
    "classifier2 = LogisticRegression(random_state = 0)\n",
    "classifier2.fit(x_train, y_train)\n",
    "\n",
    "y_pred_2 = classifier2.predict(x_test)"
   ]
  },
  {
   "cell_type": "code",
   "execution_count": 168,
   "metadata": {},
   "outputs": [
    {
     "name": "stdout",
     "output_type": "stream",
     "text": [
      "[[ 29 109]\n",
      " [ 22  96]]\n",
      "0.48828125\n"
     ]
    }
   ],
   "source": [
    "cm = confusion_matrix(y_test, y_pred_2)\n",
    "print(cm)\n",
    "print(accuracy_score(y_test, y_pred_2))"
   ]
  },
  {
   "cell_type": "markdown",
   "metadata": {},
   "source": [
    "# KNN"
   ]
  },
  {
   "cell_type": "code",
   "execution_count": 169,
   "metadata": {},
   "outputs": [],
   "source": [
    "from sklearn.neighbors import KNeighborsClassifier\n",
    "classifier3 = KNeighborsClassifier(n_neighbors=15, metric='minkowski', p=2)\n",
    "classifier3.fit(x_train, y_train)\n",
    "\n",
    "y_pred_3 = classifier3.predict(x_test)"
   ]
  },
  {
   "cell_type": "code",
   "execution_count": 170,
   "metadata": {},
   "outputs": [
    {
     "name": "stdout",
     "output_type": "stream",
     "text": [
      "[[57 81]\n",
      " [37 81]]\n",
      "0.5390625\n"
     ]
    }
   ],
   "source": [
    "cm = confusion_matrix(y_test, y_pred_3)\n",
    "print(cm)\n",
    "print(accuracy_score(y_test, y_pred_3))"
   ]
  },
  {
   "cell_type": "markdown",
   "metadata": {},
   "source": [
    "# SVM"
   ]
  },
  {
   "cell_type": "code",
   "execution_count": 171,
   "metadata": {},
   "outputs": [],
   "source": [
    "from sklearn.svm import SVC\n",
    "classifier4 = SVC(kernel='rbf')\n",
    "classifier4.fit(x_train,y_train)\n",
    "\n",
    "y_pred_4 = classifier4.predict(x_test)"
   ]
  },
  {
   "cell_type": "code",
   "execution_count": 172,
   "metadata": {},
   "outputs": [
    {
     "name": "stdout",
     "output_type": "stream",
     "text": [
      "[[58 80]\n",
      " [28 90]]\n",
      "0.578125\n"
     ]
    }
   ],
   "source": [
    "cm = confusion_matrix(y_test, y_pred_4)\n",
    "print(cm)\n",
    "print(accuracy_score(y_test, y_pred_4))"
   ]
  },
  {
   "cell_type": "markdown",
   "metadata": {},
   "source": [
    "# NB"
   ]
  },
  {
   "cell_type": "code",
   "execution_count": 173,
   "metadata": {},
   "outputs": [],
   "source": [
    "from sklearn.naive_bayes import GaussianNB\n",
    "classifier5 = GaussianNB()\n",
    "classifier5.fit(x_train, y_train)\n",
    "\n",
    "y_pred_5 = classifier5.predict(x_test)"
   ]
  },
  {
   "cell_type": "code",
   "execution_count": 174,
   "metadata": {},
   "outputs": [
    {
     "name": "stdout",
     "output_type": "stream",
     "text": [
      "[[53 85]\n",
      " [45 73]]\n",
      "0.4921875\n"
     ]
    }
   ],
   "source": [
    "cm = confusion_matrix(y_test, y_pred_5)\n",
    "print(cm)\n",
    "print(accuracy_score(y_test, y_pred_5))"
   ]
  },
  {
   "cell_type": "markdown",
   "metadata": {},
   "source": [
    "# RF"
   ]
  },
  {
   "cell_type": "code",
   "execution_count": 177,
   "metadata": {},
   "outputs": [],
   "source": [
    "from sklearn.ensemble import RandomForestClassifier\n",
    "classifier6 = RandomForestClassifier(n_estimators=10)\n",
    "classifier6.fit(x_train,y_train)\n",
    "\n",
    "y_pred_6 = classifier6.predict(x_test)"
   ]
  },
  {
   "cell_type": "code",
   "execution_count": 178,
   "metadata": {},
   "outputs": [
    {
     "name": "stdout",
     "output_type": "stream",
     "text": [
      "[[66 72]\n",
      " [70 48]]\n",
      "0.4453125\n"
     ]
    }
   ],
   "source": [
    "cm = confusion_matrix(y_test, y_pred_6)\n",
    "print(cm)\n",
    "print(accuracy_score(y_test, y_pred_6))"
   ]
  }
 ],
 "metadata": {
  "kernelspec": {
   "display_name": "Python 3",
   "language": "python",
   "name": "python3"
  },
  "language_info": {
   "codemirror_mode": {
    "name": "ipython",
    "version": 3
   },
   "file_extension": ".py",
   "mimetype": "text/x-python",
   "name": "python",
   "nbconvert_exporter": "python",
   "pygments_lexer": "ipython3",
   "version": "3.7.4"
  }
 },
 "nbformat": 4,
 "nbformat_minor": 2
}
